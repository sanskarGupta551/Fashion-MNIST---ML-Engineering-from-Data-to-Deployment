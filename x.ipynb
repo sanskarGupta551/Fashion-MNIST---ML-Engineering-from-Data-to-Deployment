{
 "cells": [
  {
   "cell_type": "markdown",
   "id": "78ad177b",
   "metadata": {},
   "source": [
    "***\n",
    "***"
   ]
  },
  {
   "cell_type": "markdown",
   "id": "62caa5e9",
   "metadata": {},
   "source": [
    "+ fashion_mnist_exp_features\n",
    "+ An Experimental Feature Group for Fashion MNIST Dataset\n",
    "+ project - fashion_mnist_gcp\n",
    "+ type - experimental"
   ]
  },
  {
   "cell_type": "code",
   "execution_count": null,
   "id": "53cfc761",
   "metadata": {},
   "outputs": [],
   "source": []
  }
 ],
 "metadata": {
  "kernelspec": {
   "display_name": "Python (TensorFlow-GPU)",
   "language": "python",
   "name": "tfgpu"
  },
  "language_info": {
   "name": "python",
   "version": "3.12.3"
  }
 },
 "nbformat": 4,
 "nbformat_minor": 5
}
