{
 "cells": [
  {
   "cell_type": "markdown",
   "id": "78ad177b",
   "metadata": {},
   "source": [
    "***\n",
    "***"
   ]
  },
  {
   "cell_type": "markdown",
   "id": "62caa5e9",
   "metadata": {},
   "source": [
    "In a notebook within a workbench instance, I want to do the following:\n",
    "\n",
    "+ Import Fashion MNIST dataset using Tensorflow\n",
    "+ Perform in-depth Data Analysis\n",
    "+ Prepare it to be compatible with Vertex AI Datasets\n",
    "+ Store it in a GCP bucket named fashion-mnist-datasets"
   ]
  },
  {
   "cell_type": "code",
   "execution_count": null,
   "id": "53cfc761",
   "metadata": {},
   "outputs": [],
   "source": []
  }
 ],
 "metadata": {
  "kernelspec": {
   "display_name": "Python (TensorFlow-GPU)",
   "language": "python",
   "name": "tfgpu"
  },
  "language_info": {
   "name": "python",
   "version": "3.12.3"
  }
 },
 "nbformat": 4,
 "nbformat_minor": 5
}
