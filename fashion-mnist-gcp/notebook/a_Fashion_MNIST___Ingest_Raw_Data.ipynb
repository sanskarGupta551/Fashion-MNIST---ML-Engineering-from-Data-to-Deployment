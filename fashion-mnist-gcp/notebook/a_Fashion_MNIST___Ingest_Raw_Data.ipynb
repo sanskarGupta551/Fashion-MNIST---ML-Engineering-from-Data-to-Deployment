{
 "cells": [
  {
   "cell_type": "markdown",
   "id": "374eae5c",
   "metadata": {},
   "source": [
    "# **Fashion MNIST: Ingest Raw Data**\n",
    "\n",
    "***\n",
    "***"
   ]
  },
  {
   "cell_type": "markdown",
   "id": "9097228e",
   "metadata": {},
   "source": [
    "***\n",
    "***"
   ]
  },
  {
   "cell_type": "code",
   "execution_count": null,
   "id": "e4141589",
   "metadata": {
    "vscode": {
     "languageId": "plaintext"
    }
   },
   "outputs": [],
   "source": []
  }
 ],
 "metadata": {
  "language_info": {
   "name": "python"
  }
 },
 "nbformat": 4,
 "nbformat_minor": 5
}
