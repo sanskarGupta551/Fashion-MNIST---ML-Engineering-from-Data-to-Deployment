{
 "cells": [
  {
   "cell_type": "markdown",
   "id": "78ad177b",
   "metadata": {},
   "source": [
    "***\n",
    "***"
   ]
  },
  {
   "cell_type": "markdown",
   "id": "25d461c1",
   "metadata": {},
   "source": [
    "+ As you can see in document (2/3) of Phase 3, Vertex AI Custom Job could not be triggerred due to quota limitations. Which means, for the sake of Custom model training, we will have to rely on local notebook. I want you to take a good look at this notebook and see if we can make the analysis or any other aspect better for this run only. Do not execute, just explain without writing code."
   ]
  },
  {
   "cell_type": "markdown",
   "id": "fb31037d",
   "metadata": {},
   "source": [
    "***\n",
    "***"
   ]
  },
  {
   "cell_type": "code",
   "execution_count": null,
   "id": "84066119",
   "metadata": {},
   "outputs": [],
   "source": []
  }
 ],
 "metadata": {
  "kernelspec": {
   "display_name": "Python (TensorFlow-GPU)",
   "language": "python",
   "name": "tfgpu"
  },
  "language_info": {
   "codemirror_mode": {
    "name": "ipython",
    "version": 3
   },
   "file_extension": ".py",
   "mimetype": "text/x-python",
   "name": "python",
   "nbconvert_exporter": "python",
   "pygments_lexer": "ipython3",
   "version": "3.12.3"
  }
 },
 "nbformat": 4,
 "nbformat_minor": 5
}
